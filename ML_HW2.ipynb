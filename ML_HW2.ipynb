{
  "nbformat": 4,
  "nbformat_minor": 0,
  "metadata": {
    "colab": {
      "provenance": []
    },
    "kernelspec": {
      "name": "python3",
      "display_name": "Python 3"
    },
    "language_info": {
      "name": "python"
    }
  },
  "cells": [
    {
      "cell_type": "code",
      "execution_count": null,
      "metadata": {
        "id": "0qYwyP_KuwT0"
      },
      "outputs": [],
      "source": [
        "import numpy as np\n",
        "import matplotlib.pyplot as plt\n",
        "from tqdm.auto import tqdm"
      ]
    },
    {
      "cell_type": "code",
      "source": [
        "def Sigmoid(x):\n",
        "  return 1/(1 + np.exp(-x)) #np.inf*x for step function\n",
        "\n",
        "def D_Sigmoid(x):\n",
        "  return Sigmoid(x)*(1-Sigmoid(x))\n",
        "\n",
        "def Step(x):\n",
        "  return int(np.any(x) > 0)\n",
        "\n",
        "def GetLabel(x, y, a, b, r):\n",
        "  return int((x-a)**2 + (y-b)**2 < r**2) #1 = +, 0 = -\n",
        "\n",
        "#y_hat = true labels\n",
        "#y = predicted labels\n",
        "#Mean Square Error\n",
        "def Loss(y, y_hat):\n",
        "  return np.mean((y_hat - y)**2)/2\n",
        "\n",
        "def D_Loss(y, y_hat):\n",
        "  return -np.mean(y_hat - y)"
      ],
      "metadata": {
        "id": "f7RRyq1Qt-s2"
      },
      "execution_count": null,
      "outputs": []
    },
    {
      "cell_type": "code",
      "source": [
        "#Generate train data\n",
        "dataset_x_train = np.random.uniform(low=0, high=1, size=100)\n",
        "dataset_y_train = np.random.uniform(low=0, high=1, size=100)\n",
        "labels_train = [GetLabel(x, y, 0.5, 0.6, 0.4) for x,y in zip(dataset_x_train, dataset_y_train)]\n",
        "\n",
        "#Generate train data\n",
        "dataset_x_test = np.random.uniform(low=0, high=1, size=100)\n",
        "dataset_y_test = np.random.uniform(low=0, high=1, size=100)\n",
        "labels_test = [GetLabel(x, y, 0.5, 0.6, 0.4) for x,y in zip(dataset_x_test, dataset_y_test)]\n",
        "\n",
        "eta = 0.01"
      ],
      "metadata": {
        "id": "GGyVSNfbuJni"
      },
      "execution_count": null,
      "outputs": []
    },
    {
      "cell_type": "code",
      "source": [
        "class Node():\n",
        "  def __init__(self, num_weights):\n",
        "    self.weights = np.random.normal(0, 1, size=num_weights+1)\n",
        "\n",
        "  def __call__(self, x):\n",
        "    x = np.append(x, 1) #add bias term\n",
        "    return Sigmoid(np.sum(x * self.weights))\n",
        "\n",
        "  def backprop(self, x, curr_gradient):\n",
        "    x = np.append(x, 1) #add bias term\n",
        "    curr_gradient = curr_gradient*D_Sigmoid(x)\n",
        "    self.weights = self.weights - eta*curr_gradient*x\n",
        "    return curr_gradient*self.weights #return gradient to be passed back"
      ],
      "metadata": {
        "id": "4tx9aFJsxTaF"
      },
      "execution_count": null,
      "outputs": []
    },
    {
      "cell_type": "code",
      "source": [
        "#initialize network\n",
        "\n",
        "#input_layer = [Node(2) for i in range(2)]\n",
        "\n",
        "hidden_layer = [Node(2) for i in range(10)]\n",
        "\n",
        "output_layer = [Node(10) for i in range(1)]"
      ],
      "metadata": {
        "id": "6wywpUATzRTK"
      },
      "execution_count": null,
      "outputs": []
    },
    {
      "cell_type": "code",
      "source": [
        "#Training Loop\n",
        "\n",
        "epochs = 1000\n",
        "train_loss_list = []\n",
        "test_loss_list = []\n",
        "mean_train_loss_list = []\n",
        "mean_test_loss_list = []\n",
        "\n",
        "for i in tqdm(range(epochs)):\n",
        "  #Training\n",
        "  epoch_train_loss_list = []\n",
        "  for j in range(100):\n",
        "    #Get current datapoint\n",
        "    curr_x = dataset_x_train[j]\n",
        "    curr_y = dataset_y_train[j]\n",
        "    curr_label = labels_train[j]\n",
        "\n",
        "    #Forward\n",
        "    #input_out = []\n",
        "    #for node in input_layer:\n",
        "    #  input_out.append(node([curr_x, curr_y]))\n",
        "\n",
        "\n",
        "    hidden_out = []\n",
        "    for node in hidden_layer:\n",
        "      hidden_out.append(node([curr_x, curr_y]))\n",
        "\n",
        "    output_out = []\n",
        "    for node in output_layer:\n",
        "      output_out.append(node(hidden_out))\n",
        "\n",
        "    #Loss\n",
        "    curr_loss = Loss(output_out[0], curr_label)\n",
        "    train_loss_list.append(curr_loss)\n",
        "    epoch_train_loss_list.append(curr_loss)\n",
        "    d_loss = D_Loss(output_out[0], curr_label)\n",
        "\n",
        "    #Backward\n",
        "    output_grad = []\n",
        "    for node in output_layer:\n",
        "      output_grad.append(node.backprop(hidden_out, d_loss))\n",
        "\n",
        "    hidden_grad = []\n",
        "    for k, node in enumerate(hidden_layer):\n",
        "      hidden_grad.append(node.backprop([curr_x, curr_y], output_grad[0][k]))\n",
        "\n",
        "    #input_grad = []\n",
        "    #for node in input_layer:\n",
        "    #  for grad in hidden_grad:\n",
        "    #    node.backprop([curr_x, curr_y], grad/len(hidden_grad)) #Mean backprop\n",
        "        #input_grad.append()\n",
        "  mean_train_loss_list.append(np.mean(epoch_train_loss_list))\n",
        "\n",
        "  #Testing\n",
        "  epoch_test_loss_list = []\n",
        "  for j in range(100):\n",
        "    #Get current datapoint\n",
        "    curr_x = dataset_x_test[j]\n",
        "    curr_y = dataset_y_test[j]\n",
        "    curr_label = labels_test[j]\n",
        "\n",
        "    #Forward\n",
        "    #input_out = []\n",
        "    #for node in input_layer:\n",
        "    #  input_out.append(node([curr_x, curr_y]))\n",
        "\n",
        "\n",
        "    hidden_out = []\n",
        "    for node in hidden_layer:\n",
        "      hidden_out.append(node([curr_x, curr_y]))\n",
        "\n",
        "    output_out = []\n",
        "    for node in output_layer:\n",
        "      output_out.append(node(hidden_out))\n",
        "\n",
        "    #Loss\n",
        "    curr_loss = Loss(output_out[0], curr_label)\n",
        "    test_loss_list.append(curr_loss)\n",
        "    epoch_test_loss_list.append(curr_loss)\n",
        "\n",
        "  mean_test_loss_list.append(np.mean(epoch_test_loss_list))\n"
      ],
      "metadata": {
        "id": "Ua6wBNaZ0atO"
      },
      "execution_count": null,
      "outputs": []
    },
    {
      "cell_type": "code",
      "source": [
        "plt.title(\"Train Loss curve\")\n",
        "plt.xlabel(\"Epochs\")\n",
        "plt.ylabel(\"Train Loss\")\n",
        "plt.plot(mean_train_loss_list)"
      ],
      "metadata": {
        "id": "7on5w9mH2sww"
      },
      "execution_count": null,
      "outputs": []
    },
    {
      "cell_type": "code",
      "source": [
        "plt.title(\"Test Loss curve\")\n",
        "plt.xlabel(\"Epochs\")\n",
        "plt.ylabel(\"Test Loss\")\n",
        "plt.plot(mean_test_loss_list)"
      ],
      "metadata": {
        "id": "vWnKvE-EV8ol"
      },
      "execution_count": null,
      "outputs": []
    },
    {
      "cell_type": "code",
      "source": [
        "xs = np.linspace(0,1,100)\n",
        "ys = np.linspace(0,1,100)\n",
        "\n",
        "X, Y = np.meshgrid(xs, ys)\n",
        "\n",
        "fig = plt.figure(figsize=(10,10))\n",
        "ax = plt.axes(projection='3d')\n",
        "ax.view_init(30, 30)\n",
        "plt.xlabel('x')\n",
        "plt.ylabel('y')\n",
        "for i, node in enumerate(hidden_layer):\n",
        "  if i<2: continue\n",
        "  z = Sigmoid(node.weights[0] * X + node.weights[1] * Y + node.weights[2])\n",
        "  ax.plot_surface(X, Y, z)\n",
        "  break"
      ],
      "metadata": {
        "id": "N2x7xwMZhonF"
      },
      "execution_count": null,
      "outputs": []
    },
    {
      "cell_type": "code",
      "source": [],
      "metadata": {
        "id": "55uk6AvOx0yf"
      },
      "execution_count": null,
      "outputs": []
    }
  ]
}